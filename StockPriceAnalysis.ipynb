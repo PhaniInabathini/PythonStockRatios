{
 "cells": [
  {
   "cell_type": "code",
   "execution_count": 1,
   "metadata": {},
   "outputs": [],
   "source": [
    "# import modules\n",
    "from datetime import datetime\n",
    "import yfinance as yf\n",
    "from pandas_datareader import data\n",
    "import matplotlib.pyplot as plt\n",
    "import pandas as pd"
   ]
  },
  {
   "cell_type": "code",
   "execution_count": null,
   "metadata": {},
   "outputs": [],
   "source": [
    "pip install nsepython"
   ]
  },
  {
   "cell_type": "code",
   "execution_count": null,
   "metadata": {},
   "outputs": [],
   "source": [
    "#setting the ticker to msft\n",
    "msft = yf.Ticker(\"MSFT\")"
   ]
  },
  {
   "cell_type": "code",
   "execution_count": null,
   "metadata": {},
   "outputs": [],
   "source": [
    "#retrieving price to book and price equity ratio.\n",
    "pb = msft.info['priceToBook']\n",
    "pe = msft.info['regularMarketPrice']/msft.info['trailingEps']\n",
    "\n",
    "print(\"Price to Book ratio: %.2f\" % pb)\n",
    "print(\"Price to Equity ratio: %.2f\" % pe)"
   ]
  },
  {
   "cell_type": "code",
   "execution_count": null,
   "metadata": {},
   "outputs": [],
   "source": [
    "# Define the instruments to download. We would like to see Apple, Microsoft and the S&P500 index.\n",
    "tickers = ['AAPL', 'MSFT', '^GSPC']\n",
    "\n",
    "# We would like all available data from 01/01/2000 until 12/31/2016.\n",
    "start_date = '2019-01-01'\n",
    "end_date = '2020-12-31'\n",
    "\n",
    "# User pandas_reader.data.DataReader to load the desired data. As simple as that.\n",
    "#panel_data = data.DataReader('SIVB', 'yahoo', start_date, end_date)\n",
    "panel_data = yf.download('SIVB',threads= False,start=start_date, end=end_date)\n"
   ]
  },
  {
   "cell_type": "code",
   "execution_count": 2,
   "metadata": {},
   "outputs": [],
   "source": [
    "from nsepython import *"
   ]
  },
  {
   "cell_type": "code",
   "execution_count": 4,
   "metadata": {},
   "outputs": [
    {
     "name": "stdout",
     "output_type": "stream",
     "text": [
      "{'lastPrice': 990.5, 'change': 4.350000000000023, 'pChange': 0.44110936470111267, 'previousClose': 986.15, 'open': 986.15, 'close': 0, 'vwap': 990.73, 'lowerCP': '788.95', 'upperCP': '1183.35', 'pPriceBand': '20', 'basePrice': 986.15, 'intraDayHighLow': {'min': 986.15, 'max': 992, 'value': 990.5}, 'weekHighLow': {'min': 332.3, 'minDate': '25-Sep-2020', 'max': 1138, 'maxDate': '14-Jul-2021', 'value': 990.5}}\n"
     ]
    }
   ],
   "source": [
    "print(nse_eq('JUSTDIAL')['priceInfo'])"
   ]
  },
  {
   "cell_type": "code",
   "execution_count": null,
   "metadata": {},
   "outputs": [],
   "source": []
  },
  {
   "cell_type": "code",
   "execution_count": null,
   "metadata": {},
   "outputs": [],
   "source": []
  }
 ],
 "metadata": {
  "kernelspec": {
   "display_name": "Python 3",
   "language": "python",
   "name": "python3"
  },
  "language_info": {
   "codemirror_mode": {
    "name": "ipython",
    "version": 3
   },
   "file_extension": ".py",
   "mimetype": "text/x-python",
   "name": "python",
   "nbconvert_exporter": "python",
   "pygments_lexer": "ipython3",
   "version": "3.8.3"
  }
 },
 "nbformat": 4,
 "nbformat_minor": 4
}
